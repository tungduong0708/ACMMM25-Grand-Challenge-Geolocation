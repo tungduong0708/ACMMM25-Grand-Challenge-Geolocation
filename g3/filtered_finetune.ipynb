{
 "cells": [
  {
   "cell_type": "code",
   "execution_count": 2,
   "id": "e7745123-a0d8-4980-88c0-ef3086af4deb",
   "metadata": {
    "execution": {
     "iopub.execute_input": "2025-05-27T22:17:59.468844Z",
     "iopub.status.busy": "2025-05-27T22:17:59.468557Z",
     "iopub.status.idle": "2025-05-27T22:18:02.590419Z",
     "shell.execute_reply": "2025-05-27T22:18:02.589451Z",
     "shell.execute_reply.started": "2025-05-27T22:17:59.468787Z"
    },
    "trusted": true
   },
   "outputs": [
    {
     "name": "stdout",
     "output_type": "stream",
     "text": [
      "Cloning into 'G3-Original'...\n",
      "remote: Enumerating objects: 348, done.\u001b[K\n",
      "remote: Counting objects: 100% (110/110), done.\u001b[K\n",
      "remote: Compressing objects: 100% (82/82), done.\u001b[K\n",
      "remote: Total 348 (delta 68), reused 69 (delta 28), pack-reused 238 (from 1)\u001b[K\n",
      "Receiving objects: 100% (348/348), 37.67 MiB | 38.31 MiB/s, done.\n",
      "Resolving deltas: 100% (222/222), done.\n"
     ]
    }
   ],
   "source": [
    "!git clone https://github.com/tungduong0708/G3-Original.git"
   ]
  },
  {
   "cell_type": "code",
   "execution_count": 3,
   "id": "9b1ce6cb-a37b-432f-aa64-0116c80daf4d",
   "metadata": {
    "execution": {
     "iopub.execute_input": "2025-05-27T22:18:02.591669Z",
     "iopub.status.busy": "2025-05-27T22:18:02.591450Z",
     "iopub.status.idle": "2025-05-27T22:18:02.597707Z",
     "shell.execute_reply": "2025-05-27T22:18:02.596854Z",
     "shell.execute_reply.started": "2025-05-27T22:18:02.591645Z"
    },
    "trusted": true
   },
   "outputs": [
    {
     "name": "stdout",
     "output_type": "stream",
     "text": [
      "/kaggle/working/G3-Original\n"
     ]
    }
   ],
   "source": [
    "%cd G3-Original"
   ]
  },
  {
   "cell_type": "code",
   "execution_count": 52,
   "id": "684b8552",
   "metadata": {
    "collapsed": true,
    "execution": {
     "iopub.execute_input": "2025-05-27T22:56:43.637417Z",
     "iopub.status.busy": "2025-05-27T22:56:43.636692Z",
     "iopub.status.idle": "2025-05-27T22:59:22.152784Z",
     "shell.execute_reply": "2025-05-27T22:59:22.152043Z",
     "shell.execute_reply.started": "2025-05-27T22:56:43.637393Z"
    },
    "jupyter": {
     "outputs_hidden": true
    },
    "trusted": true
   },
   "outputs": [
    {
     "name": "stdout",
     "output_type": "stream",
     "text": [
      "Looking in indexes: https://download.pytorch.org/whl/cu124\n",
      "Collecting torch==2.4.0\n",
      "  Downloading https://download.pytorch.org/whl/cu124/torch-2.4.0%2Bcu124-cp311-cp311-linux_x86_64.whl (797.3 MB)\n",
      "\u001b[2K     \u001b[90m━━━━━━━━━━━━━━━━━━━━━━━━━━━━━━━━━━━━━━━━\u001b[0m \u001b[32m797.3/797.3 MB\u001b[0m \u001b[31m2.1 MB/s\u001b[0m eta \u001b[36m0:00:00\u001b[0m0:00:01\u001b[0m00:01\u001b[0m\n",
      "\u001b[?25hCollecting torchvision==0.19.0\n",
      "  Downloading https://download.pytorch.org/whl/cu124/torchvision-0.19.0%2Bcu124-cp311-cp311-linux_x86_64.whl (7.1 MB)\n",
      "\u001b[2K     \u001b[90m━━━━━━━━━━━━━━━━━━━━━━━━━━━━━━━━━━━━━━━━\u001b[0m \u001b[32m7.1/7.1 MB\u001b[0m \u001b[31m2.6 MB/s\u001b[0m eta \u001b[36m0:00:00\u001b[0m0:00:01\u001b[0m00:01\u001b[0m\n",
      "\u001b[?25hCollecting torchaudio==2.4.0\n",
      "  Downloading https://download.pytorch.org/whl/cu124/torchaudio-2.4.0%2Bcu124-cp311-cp311-linux_x86_64.whl (3.4 MB)\n",
      "\u001b[2K     \u001b[90m━━━━━━━━━━━━━━━━━━━━━━━━━━━━━━━━━━━━━━━━\u001b[0m \u001b[32m3.4/3.4 MB\u001b[0m \u001b[31m50.4 MB/s\u001b[0m eta \u001b[36m0:00:00\u001b[0ma \u001b[36m0:00:01\u001b[0m\n",
      "\u001b[?25hRequirement already satisfied: filelock in /usr/local/lib/python3.11/dist-packages (from torch==2.4.0) (3.18.0)\n",
      "Requirement already satisfied: typing-extensions>=4.8.0 in /usr/local/lib/python3.11/dist-packages (from torch==2.4.0) (4.13.2)\n",
      "Requirement already satisfied: sympy in /usr/local/lib/python3.11/dist-packages (from torch==2.4.0) (1.13.1)\n",
      "Requirement already satisfied: networkx in /usr/local/lib/python3.11/dist-packages (from torch==2.4.0) (3.4.2)\n",
      "Requirement already satisfied: jinja2 in /usr/local/lib/python3.11/dist-packages (from torch==2.4.0) (3.1.6)\n",
      "Requirement already satisfied: fsspec in /usr/local/lib/python3.11/dist-packages (from torch==2.4.0) (2025.3.2)\n",
      "Collecting nvidia-cuda-nvrtc-cu12==12.4.99 (from torch==2.4.0)\n",
      "  Downloading https://download.pytorch.org/whl/cu124/nvidia_cuda_nvrtc_cu12-12.4.99-py3-none-manylinux2014_x86_64.whl (24.7 MB)\n",
      "\u001b[2K     \u001b[90m━━━━━━━━━━━━━━━━━━━━━━━━━━━━━━━━━━━━━━━━\u001b[0m \u001b[32m24.7/24.7 MB\u001b[0m \u001b[31m73.5 MB/s\u001b[0m eta \u001b[36m0:00:00\u001b[0m:00:01\u001b[0m00:01\u001b[0m\n",
      "\u001b[?25hCollecting nvidia-cuda-runtime-cu12==12.4.99 (from torch==2.4.0)\n",
      "  Downloading https://download.pytorch.org/whl/cu124/nvidia_cuda_runtime_cu12-12.4.99-py3-none-manylinux2014_x86_64.whl (883 kB)\n",
      "\u001b[2K     \u001b[90m━━━━━━━━━━━━━━━━━━━━━━━━━━━━━━━━━━━━━━━━\u001b[0m \u001b[32m883.4/883.4 kB\u001b[0m \u001b[31m45.4 MB/s\u001b[0m eta \u001b[36m0:00:00\u001b[0m\n",
      "\u001b[?25hCollecting nvidia-cuda-cupti-cu12==12.4.99 (from torch==2.4.0)\n",
      "  Downloading https://download.pytorch.org/whl/cu124/nvidia_cuda_cupti_cu12-12.4.99-py3-none-manylinux2014_x86_64.whl (13.8 MB)\n",
      "\u001b[2K     \u001b[90m━━━━━━━━━━━━━━━━━━━━━━━━━━━━━━━━━━━━━━━━\u001b[0m \u001b[32m13.8/13.8 MB\u001b[0m \u001b[31m99.7 MB/s\u001b[0m eta \u001b[36m0:00:00\u001b[0m:00:01\u001b[0m00:01\u001b[0m\n",
      "\u001b[?25hCollecting nvidia-cudnn-cu12==9.1.0.70 (from torch==2.4.0)\n",
      "  Downloading https://download.pytorch.org/whl/cu124/nvidia_cudnn_cu12-9.1.0.70-py3-none-manylinux2014_x86_64.whl (664.8 MB)\n",
      "\u001b[2K     \u001b[90m━━━━━━━━━━━━━━━━━━━━━━━━━━━━━━━━━━━━━━━━\u001b[0m \u001b[32m664.8/664.8 MB\u001b[0m \u001b[31m2.7 MB/s\u001b[0m eta \u001b[36m0:00:00\u001b[0m0:00:01\u001b[0m00:01\u001b[0m\n",
      "\u001b[?25hCollecting nvidia-cublas-cu12==12.4.2.65 (from torch==2.4.0)\n",
      "  Downloading https://download.pytorch.org/whl/cu124/nvidia_cublas_cu12-12.4.2.65-py3-none-manylinux2014_x86_64.whl (363.0 MB)\n",
      "\u001b[2K     \u001b[90m━━━━━━━━━━━━━━━━━━━━━━━━━━━━━━━━━━━━━━━━\u001b[0m \u001b[32m363.0/363.0 MB\u001b[0m \u001b[31m4.7 MB/s\u001b[0m eta \u001b[36m0:00:00\u001b[0m0:00:01\u001b[0m00:01\u001b[0m\n",
      "\u001b[?25hCollecting nvidia-cufft-cu12==11.2.0.44 (from torch==2.4.0)\n",
      "  Downloading https://download.pytorch.org/whl/cu124/nvidia_cufft_cu12-11.2.0.44-py3-none-manylinux2014_x86_64.whl (211.5 MB)\n",
      "\u001b[2K     \u001b[90m━━━━━━━━━━━━━━━━━━━━━━━━━━━━━━━━━━━━━━━━\u001b[0m \u001b[32m211.5/211.5 MB\u001b[0m \u001b[31m8.0 MB/s\u001b[0m eta \u001b[36m0:00:00\u001b[0m0:00:01\u001b[0m00:01\u001b[0m\n",
      "\u001b[?25hCollecting nvidia-curand-cu12==10.3.5.119 (from torch==2.4.0)\n",
      "  Downloading https://download.pytorch.org/whl/cu124/nvidia_curand_cu12-10.3.5.119-py3-none-manylinux2014_x86_64.whl (56.3 MB)\n",
      "\u001b[2K     \u001b[90m━━━━━━━━━━━━━━━━━━━━━━━━━━━━━━━━━━━━━━━━\u001b[0m \u001b[32m56.3/56.3 MB\u001b[0m \u001b[31m31.3 MB/s\u001b[0m eta \u001b[36m0:00:00\u001b[0m:00:01\u001b[0m00:01\u001b[0m\n",
      "\u001b[?25hCollecting nvidia-cusolver-cu12==11.6.0.99 (from torch==2.4.0)\n",
      "  Downloading https://download.pytorch.org/whl/cu124/nvidia_cusolver_cu12-11.6.0.99-py3-none-manylinux2014_x86_64.whl (128.4 MB)\n",
      "\u001b[2K     \u001b[90m━━━━━━━━━━━━━━━━━━━━━━━━━━━━━━━━━━━━━━━━\u001b[0m \u001b[32m128.4/128.4 MB\u001b[0m \u001b[31m13.4 MB/s\u001b[0m eta \u001b[36m0:00:00\u001b[0m:00:01\u001b[0m00:01\u001b[0m\n",
      "\u001b[?25hCollecting nvidia-cusparse-cu12==12.3.0.142 (from torch==2.4.0)\n",
      "  Downloading https://download.pytorch.org/whl/cu124/nvidia_cusparse_cu12-12.3.0.142-py3-none-manylinux2014_x86_64.whl (207.5 MB)\n",
      "\u001b[2K     \u001b[90m━━━━━━━━━━━━━━━━━━━━━━━━━━━━━━━━━━━━━━━━\u001b[0m \u001b[32m207.5/207.5 MB\u001b[0m \u001b[31m5.0 MB/s\u001b[0m eta \u001b[36m0:00:00\u001b[0m0:00:01\u001b[0m00:01\u001b[0m\n",
      "\u001b[?25hCollecting nvidia-nccl-cu12==2.20.5 (from torch==2.4.0)\n",
      "  Downloading https://download.pytorch.org/whl/cu124/nvidia_nccl_cu12-2.20.5-py3-none-manylinux2014_x86_64.whl (176.2 MB)\n",
      "\u001b[2K     \u001b[90m━━━━━━━━━━━━━━━━━━━━━━━━━━━━━━━━━━━━━━━━\u001b[0m \u001b[32m176.2/176.2 MB\u001b[0m \u001b[31m7.4 MB/s\u001b[0m eta \u001b[36m0:00:00\u001b[0m0:00:01\u001b[0m00:01\u001b[0m\n",
      "\u001b[?25hCollecting nvidia-nvtx-cu12==12.4.99 (from torch==2.4.0)\n",
      "  Downloading https://download.pytorch.org/whl/cu124/nvidia_nvtx_cu12-12.4.99-py3-none-manylinux2014_x86_64.whl (99 kB)\n",
      "\u001b[2K     \u001b[90m━━━━━━━━━━━━━━━━━━━━━━━━━━━━━━━━━━━━━━━━\u001b[0m \u001b[32m99.1/99.1 kB\u001b[0m \u001b[31m19.4 kB/s\u001b[0m eta \u001b[36m0:00:00\u001b[0mta \u001b[36m0:00:01\u001b[0m\n",
      "\u001b[?25hCollecting nvidia-nvjitlink-cu12==12.4.99 (from torch==2.4.0)\n",
      "  Downloading https://download.pytorch.org/whl/cu124/nvidia_nvjitlink_cu12-12.4.99-py3-none-manylinux2014_x86_64.whl (21.1 MB)\n",
      "\u001b[2K     \u001b[90m━━━━━━━━━━━━━━━━━━━━━━━━━━━━━━━━━━━━━━━━\u001b[0m \u001b[32m21.1/21.1 MB\u001b[0m \u001b[31m68.3 MB/s\u001b[0m eta \u001b[36m0:00:00\u001b[0m:00:01\u001b[0m00:01\u001b[0m\n",
      "\u001b[?25hCollecting triton==3.0.0 (from torch==2.4.0)\n",
      "  Downloading https://download.pytorch.org/whl/triton-3.0.0-1-cp311-cp311-manylinux2014_x86_64.manylinux_2_17_x86_64.whl (209.4 MB)\n",
      "\u001b[2K     \u001b[90m━━━━━━━━━━━━━━━━━━━━━━━━━━━━━━━━━━━━━━━━\u001b[0m \u001b[32m209.4/209.4 MB\u001b[0m \u001b[31m8.2 MB/s\u001b[0m eta \u001b[36m0:00:00\u001b[0m0:00:01\u001b[0m00:01\u001b[0m\n",
      "\u001b[?25hRequirement already satisfied: numpy in /usr/local/lib/python3.11/dist-packages (from torchvision==0.19.0) (1.26.4)\n",
      "Requirement already satisfied: pillow!=8.3.*,>=5.3.0 in /usr/local/lib/python3.11/dist-packages (from torchvision==0.19.0) (11.1.0)\n",
      "Requirement already satisfied: MarkupSafe>=2.0 in /usr/local/lib/python3.11/dist-packages (from jinja2->torch==2.4.0) (3.0.2)\n",
      "Requirement already satisfied: mkl_fft in /usr/local/lib/python3.11/dist-packages (from numpy->torchvision==0.19.0) (1.3.8)\n",
      "Requirement already satisfied: mkl_random in /usr/local/lib/python3.11/dist-packages (from numpy->torchvision==0.19.0) (1.2.4)\n",
      "Requirement already satisfied: mkl_umath in /usr/local/lib/python3.11/dist-packages (from numpy->torchvision==0.19.0) (0.1.1)\n",
      "Requirement already satisfied: mkl in /usr/local/lib/python3.11/dist-packages (from numpy->torchvision==0.19.0) (2025.1.0)\n",
      "Requirement already satisfied: tbb4py in /usr/local/lib/python3.11/dist-packages (from numpy->torchvision==0.19.0) (2022.1.0)\n",
      "Requirement already satisfied: mkl-service in /usr/local/lib/python3.11/dist-packages (from numpy->torchvision==0.19.0) (2.4.1)\n",
      "Requirement already satisfied: mpmath<1.4,>=1.1.0 in /usr/local/lib/python3.11/dist-packages (from sympy->torch==2.4.0) (1.3.0)\n",
      "Requirement already satisfied: intel-openmp<2026,>=2024 in /usr/local/lib/python3.11/dist-packages (from mkl->numpy->torchvision==0.19.0) (2024.2.0)\n",
      "Requirement already satisfied: tbb==2022.* in /usr/local/lib/python3.11/dist-packages (from mkl->numpy->torchvision==0.19.0) (2022.1.0)\n",
      "Requirement already satisfied: tcmlib==1.* in /usr/local/lib/python3.11/dist-packages (from tbb==2022.*->mkl->numpy->torchvision==0.19.0) (1.3.0)\n",
      "Requirement already satisfied: intel-cmplr-lib-rt in /usr/local/lib/python3.11/dist-packages (from mkl_umath->numpy->torchvision==0.19.0) (2024.2.0)\n",
      "Requirement already satisfied: intel-cmplr-lib-ur==2024.2.0 in /usr/local/lib/python3.11/dist-packages (from intel-openmp<2026,>=2024->mkl->numpy->torchvision==0.19.0) (2024.2.0)\n",
      "Installing collected packages: triton, nvidia-nvtx-cu12, nvidia-nvjitlink-cu12, nvidia-nccl-cu12, nvidia-curand-cu12, nvidia-cufft-cu12, nvidia-cuda-runtime-cu12, nvidia-cuda-nvrtc-cu12, nvidia-cuda-cupti-cu12, nvidia-cublas-cu12, nvidia-cusparse-cu12, nvidia-cudnn-cu12, nvidia-cusolver-cu12, torch, torchaudio, torchvision\n",
      "  Attempting uninstall: triton\n",
      "    Found existing installation: triton 3.2.0\n",
      "    Uninstalling triton-3.2.0:\n",
      "      Successfully uninstalled triton-3.2.0\n",
      "  Attempting uninstall: nvidia-nvtx-cu12\n",
      "    Found existing installation: nvidia-nvtx-cu12 12.4.127\n",
      "    Uninstalling nvidia-nvtx-cu12-12.4.127:\n",
      "      Successfully uninstalled nvidia-nvtx-cu12-12.4.127\n",
      "  Attempting uninstall: nvidia-nvjitlink-cu12\n",
      "    Found existing installation: nvidia-nvjitlink-cu12 12.9.41\n",
      "    Uninstalling nvidia-nvjitlink-cu12-12.9.41:\n",
      "      Successfully uninstalled nvidia-nvjitlink-cu12-12.9.41\n",
      "  Attempting uninstall: nvidia-nccl-cu12\n",
      "    Found existing installation: nvidia-nccl-cu12 2.21.5\n",
      "    Uninstalling nvidia-nccl-cu12-2.21.5:\n",
      "      Successfully uninstalled nvidia-nccl-cu12-2.21.5\n",
      "  Attempting uninstall: nvidia-curand-cu12\n",
      "    Found existing installation: nvidia-curand-cu12 10.3.10.19\n",
      "    Uninstalling nvidia-curand-cu12-10.3.10.19:\n",
      "      Successfully uninstalled nvidia-curand-cu12-10.3.10.19\n",
      "  Attempting uninstall: nvidia-cufft-cu12\n",
      "    Found existing installation: nvidia-cufft-cu12 11.4.0.6\n",
      "    Uninstalling nvidia-cufft-cu12-11.4.0.6:\n",
      "      Successfully uninstalled nvidia-cufft-cu12-11.4.0.6\n",
      "  Attempting uninstall: nvidia-cuda-runtime-cu12\n",
      "    Found existing installation: nvidia-cuda-runtime-cu12 12.4.127\n",
      "    Uninstalling nvidia-cuda-runtime-cu12-12.4.127:\n",
      "      Successfully uninstalled nvidia-cuda-runtime-cu12-12.4.127\n",
      "  Attempting uninstall: nvidia-cuda-nvrtc-cu12\n",
      "    Found existing installation: nvidia-cuda-nvrtc-cu12 12.4.127\n",
      "    Uninstalling nvidia-cuda-nvrtc-cu12-12.4.127:\n",
      "      Successfully uninstalled nvidia-cuda-nvrtc-cu12-12.4.127\n",
      "  Attempting uninstall: nvidia-cuda-cupti-cu12\n",
      "    Found existing installation: nvidia-cuda-cupti-cu12 12.4.127\n",
      "    Uninstalling nvidia-cuda-cupti-cu12-12.4.127:\n",
      "      Successfully uninstalled nvidia-cuda-cupti-cu12-12.4.127\n",
      "  Attempting uninstall: nvidia-cublas-cu12\n",
      "    Found existing installation: nvidia-cublas-cu12 12.9.0.13\n",
      "    Uninstalling nvidia-cublas-cu12-12.9.0.13:\n",
      "      Successfully uninstalled nvidia-cublas-cu12-12.9.0.13\n",
      "  Attempting uninstall: nvidia-cusparse-cu12\n",
      "    Found existing installation: nvidia-cusparse-cu12 12.5.9.5\n",
      "    Uninstalling nvidia-cusparse-cu12-12.5.9.5:\n",
      "      Successfully uninstalled nvidia-cusparse-cu12-12.5.9.5\n",
      "  Attempting uninstall: nvidia-cudnn-cu12\n",
      "    Found existing installation: nvidia-cudnn-cu12 9.3.0.75\n",
      "    Uninstalling nvidia-cudnn-cu12-9.3.0.75:\n",
      "      Successfully uninstalled nvidia-cudnn-cu12-9.3.0.75\n",
      "  Attempting uninstall: nvidia-cusolver-cu12\n",
      "    Found existing installation: nvidia-cusolver-cu12 11.7.4.40\n",
      "    Uninstalling nvidia-cusolver-cu12-11.7.4.40:\n",
      "      Successfully uninstalled nvidia-cusolver-cu12-11.7.4.40\n",
      "  Attempting uninstall: torch\n",
      "    Found existing installation: torch 2.6.0+cu124\n",
      "    Uninstalling torch-2.6.0+cu124:\n",
      "      Successfully uninstalled torch-2.6.0+cu124\n",
      "  Attempting uninstall: torchaudio\n",
      "    Found existing installation: torchaudio 2.6.0+cu124\n",
      "    Uninstalling torchaudio-2.6.0+cu124:\n",
      "      Successfully uninstalled torchaudio-2.6.0+cu124\n",
      "  Attempting uninstall: torchvision\n",
      "    Found existing installation: torchvision 0.21.0+cu124\n",
      "    Uninstalling torchvision-0.21.0+cu124:\n",
      "      Successfully uninstalled torchvision-0.21.0+cu124\n",
      "Successfully installed nvidia-cublas-cu12-12.4.2.65 nvidia-cuda-cupti-cu12-12.4.99 nvidia-cuda-nvrtc-cu12-12.4.99 nvidia-cuda-runtime-cu12-12.4.99 nvidia-cudnn-cu12-9.1.0.70 nvidia-cufft-cu12-11.2.0.44 nvidia-curand-cu12-10.3.5.119 nvidia-cusolver-cu12-11.6.0.99 nvidia-cusparse-cu12-12.3.0.142 nvidia-nccl-cu12-2.20.5 nvidia-nvjitlink-cu12-12.4.99 nvidia-nvtx-cu12-12.4.99 torch-2.4.0+cu124 torchaudio-2.4.0+cu124 torchvision-0.19.0+cu124 triton-3.0.0\n",
      "Requirement already satisfied: transformers in /usr/local/lib/python3.11/dist-packages (4.51.3)\n",
      "Requirement already satisfied: accelerate in /usr/local/lib/python3.11/dist-packages (1.5.2)\n",
      "Requirement already satisfied: huggingface_hub in /usr/local/lib/python3.11/dist-packages (0.31.1)\n",
      "Requirement already satisfied: pandas in /usr/local/lib/python3.11/dist-packages (2.2.3)\n",
      "Requirement already satisfied: optuna in /usr/local/lib/python3.11/dist-packages (4.3.0)\n",
      "Requirement already satisfied: pyproj in /usr/local/lib/python3.11/dist-packages (3.7.1)\n",
      "Requirement already satisfied: einops in /usr/local/lib/python3.11/dist-packages (0.8.1)\n",
      "Requirement already satisfied: geopy in /usr/local/lib/python3.11/dist-packages (2.4.1)\n",
      "Requirement already satisfied: matplotlib in /usr/local/lib/python3.11/dist-packages (3.7.2)\n",
      "Requirement already satisfied: kaggle in /usr/local/lib/python3.11/dist-packages (1.7.4.2)\n",
      "Requirement already satisfied: geopandas in /usr/local/lib/python3.11/dist-packages (0.14.4)\n",
      "Requirement already satisfied: cartopy in /usr/local/lib/python3.11/dist-packages (0.24.1)\n",
      "Requirement already satisfied: filelock in /usr/local/lib/python3.11/dist-packages (from transformers) (3.18.0)\n",
      "Requirement already satisfied: numpy>=1.17 in /usr/local/lib/python3.11/dist-packages (from transformers) (1.26.4)\n",
      "Requirement already satisfied: packaging>=20.0 in /usr/local/lib/python3.11/dist-packages (from transformers) (25.0)\n",
      "Requirement already satisfied: pyyaml>=5.1 in /usr/local/lib/python3.11/dist-packages (from transformers) (6.0.2)\n",
      "Requirement already satisfied: regex!=2019.12.17 in /usr/local/lib/python3.11/dist-packages (from transformers) (2024.11.6)\n",
      "Requirement already satisfied: requests in /usr/local/lib/python3.11/dist-packages (from transformers) (2.32.3)\n",
      "Requirement already satisfied: tokenizers<0.22,>=0.21 in /usr/local/lib/python3.11/dist-packages (from transformers) (0.21.1)\n",
      "Requirement already satisfied: safetensors>=0.4.3 in /usr/local/lib/python3.11/dist-packages (from transformers) (0.5.3)\n",
      "Requirement already satisfied: tqdm>=4.27 in /usr/local/lib/python3.11/dist-packages (from transformers) (4.67.1)\n",
      "Requirement already satisfied: psutil in /usr/local/lib/python3.11/dist-packages (from accelerate) (7.0.0)\n",
      "Requirement already satisfied: torch>=2.0.0 in /usr/local/lib/python3.11/dist-packages (from accelerate) (2.4.0+cu124)\n",
      "Requirement already satisfied: fsspec>=2023.5.0 in /usr/local/lib/python3.11/dist-packages (from huggingface_hub) (2025.3.2)\n",
      "Requirement already satisfied: typing-extensions>=3.7.4.3 in /usr/local/lib/python3.11/dist-packages (from huggingface_hub) (4.13.2)\n",
      "Requirement already satisfied: hf-xet<2.0.0,>=1.1.0 in /usr/local/lib/python3.11/dist-packages (from huggingface_hub) (1.1.0)\n",
      "Requirement already satisfied: python-dateutil>=2.8.2 in /usr/local/lib/python3.11/dist-packages (from pandas) (2.9.0.post0)\n",
      "Requirement already satisfied: pytz>=2020.1 in /usr/local/lib/python3.11/dist-packages (from pandas) (2025.2)\n",
      "Requirement already satisfied: tzdata>=2022.7 in /usr/local/lib/python3.11/dist-packages (from pandas) (2025.2)\n",
      "Requirement already satisfied: alembic>=1.5.0 in /usr/local/lib/python3.11/dist-packages (from optuna) (1.15.2)\n",
      "Requirement already satisfied: colorlog in /usr/local/lib/python3.11/dist-packages (from optuna) (6.9.0)\n",
      "Requirement already satisfied: sqlalchemy>=1.4.2 in /usr/local/lib/python3.11/dist-packages (from optuna) (2.0.40)\n",
      "Requirement already satisfied: certifi in /usr/local/lib/python3.11/dist-packages (from pyproj) (2025.4.26)\n",
      "Requirement already satisfied: geographiclib<3,>=1.52 in /usr/local/lib/python3.11/dist-packages (from geopy) (2.0)\n",
      "Requirement already satisfied: contourpy>=1.0.1 in /usr/local/lib/python3.11/dist-packages (from matplotlib) (1.3.1)\n",
      "Requirement already satisfied: cycler>=0.10 in /usr/local/lib/python3.11/dist-packages (from matplotlib) (0.12.1)\n",
      "Requirement already satisfied: fonttools>=4.22.0 in /usr/local/lib/python3.11/dist-packages (from matplotlib) (4.57.0)\n",
      "Requirement already satisfied: kiwisolver>=1.0.1 in /usr/local/lib/python3.11/dist-packages (from matplotlib) (1.4.8)\n",
      "Requirement already satisfied: pillow>=6.2.0 in /usr/local/lib/python3.11/dist-packages (from matplotlib) (11.1.0)\n",
      "Requirement already satisfied: pyparsing<3.1,>=2.3.1 in /usr/local/lib/python3.11/dist-packages (from matplotlib) (3.0.9)\n",
      "Requirement already satisfied: bleach in /usr/local/lib/python3.11/dist-packages (from kaggle) (6.2.0)\n",
      "Requirement already satisfied: charset-normalizer in /usr/local/lib/python3.11/dist-packages (from kaggle) (3.4.2)\n",
      "Requirement already satisfied: idna in /usr/local/lib/python3.11/dist-packages (from kaggle) (3.10)\n",
      "Requirement already satisfied: protobuf in /usr/local/lib/python3.11/dist-packages (from kaggle) (3.20.3)\n",
      "Requirement already satisfied: python-slugify in /usr/local/lib/python3.11/dist-packages (from kaggle) (8.0.4)\n",
      "Requirement already satisfied: setuptools>=21.0.0 in /usr/local/lib/python3.11/dist-packages (from kaggle) (75.2.0)\n",
      "Requirement already satisfied: six>=1.10 in /usr/local/lib/python3.11/dist-packages (from kaggle) (1.17.0)\n",
      "Requirement already satisfied: text-unidecode in /usr/local/lib/python3.11/dist-packages (from kaggle) (1.3)\n",
      "Requirement already satisfied: urllib3>=1.15.1 in /usr/local/lib/python3.11/dist-packages (from kaggle) (2.4.0)\n",
      "Requirement already satisfied: webencodings in /usr/local/lib/python3.11/dist-packages (from kaggle) (0.5.1)\n",
      "Requirement already satisfied: fiona>=1.8.21 in /usr/local/lib/python3.11/dist-packages (from geopandas) (1.10.1)\n",
      "Requirement already satisfied: shapely>=1.8.0 in /usr/local/lib/python3.11/dist-packages (from geopandas) (2.1.0)\n",
      "Requirement already satisfied: pyshp>=2.3 in /usr/local/lib/python3.11/dist-packages (from cartopy) (2.3.1)\n",
      "Requirement already satisfied: Mako in /usr/local/lib/python3.11/dist-packages (from alembic>=1.5.0->optuna) (1.3.10)\n",
      "Requirement already satisfied: attrs>=19.2.0 in /usr/local/lib/python3.11/dist-packages (from fiona>=1.8.21->geopandas) (25.3.0)\n",
      "Requirement already satisfied: click~=8.0 in /usr/local/lib/python3.11/dist-packages (from fiona>=1.8.21->geopandas) (8.1.8)\n",
      "Requirement already satisfied: click-plugins>=1.0 in /usr/local/lib/python3.11/dist-packages (from fiona>=1.8.21->geopandas) (1.1.1)\n",
      "Requirement already satisfied: cligj>=0.5 in /usr/local/lib/python3.11/dist-packages (from fiona>=1.8.21->geopandas) (0.7.2)\n",
      "Requirement already satisfied: mkl_fft in /usr/local/lib/python3.11/dist-packages (from numpy>=1.17->transformers) (1.3.8)\n",
      "Requirement already satisfied: mkl_random in /usr/local/lib/python3.11/dist-packages (from numpy>=1.17->transformers) (1.2.4)\n",
      "Requirement already satisfied: mkl_umath in /usr/local/lib/python3.11/dist-packages (from numpy>=1.17->transformers) (0.1.1)\n",
      "Requirement already satisfied: mkl in /usr/local/lib/python3.11/dist-packages (from numpy>=1.17->transformers) (2025.1.0)\n",
      "Requirement already satisfied: tbb4py in /usr/local/lib/python3.11/dist-packages (from numpy>=1.17->transformers) (2022.1.0)\n",
      "Requirement already satisfied: mkl-service in /usr/local/lib/python3.11/dist-packages (from numpy>=1.17->transformers) (2.4.1)\n",
      "Requirement already satisfied: greenlet>=1 in /usr/local/lib/python3.11/dist-packages (from sqlalchemy>=1.4.2->optuna) (3.1.1)\n",
      "Requirement already satisfied: sympy in /usr/local/lib/python3.11/dist-packages (from torch>=2.0.0->accelerate) (1.13.1)\n",
      "Requirement already satisfied: networkx in /usr/local/lib/python3.11/dist-packages (from torch>=2.0.0->accelerate) (3.4.2)\n",
      "Requirement already satisfied: jinja2 in /usr/local/lib/python3.11/dist-packages (from torch>=2.0.0->accelerate) (3.1.6)\n",
      "Requirement already satisfied: nvidia-cuda-nvrtc-cu12==12.4.99 in /usr/local/lib/python3.11/dist-packages (from torch>=2.0.0->accelerate) (12.4.99)\n",
      "Requirement already satisfied: nvidia-cuda-runtime-cu12==12.4.99 in /usr/local/lib/python3.11/dist-packages (from torch>=2.0.0->accelerate) (12.4.99)\n",
      "Requirement already satisfied: nvidia-cuda-cupti-cu12==12.4.99 in /usr/local/lib/python3.11/dist-packages (from torch>=2.0.0->accelerate) (12.4.99)\n",
      "Requirement already satisfied: nvidia-cudnn-cu12==9.1.0.70 in /usr/local/lib/python3.11/dist-packages (from torch>=2.0.0->accelerate) (9.1.0.70)\n",
      "Requirement already satisfied: nvidia-cublas-cu12==12.4.2.65 in /usr/local/lib/python3.11/dist-packages (from torch>=2.0.0->accelerate) (12.4.2.65)\n",
      "Requirement already satisfied: nvidia-cufft-cu12==11.2.0.44 in /usr/local/lib/python3.11/dist-packages (from torch>=2.0.0->accelerate) (11.2.0.44)\n",
      "Requirement already satisfied: nvidia-curand-cu12==10.3.5.119 in /usr/local/lib/python3.11/dist-packages (from torch>=2.0.0->accelerate) (10.3.5.119)\n",
      "Requirement already satisfied: nvidia-cusolver-cu12==11.6.0.99 in /usr/local/lib/python3.11/dist-packages (from torch>=2.0.0->accelerate) (11.6.0.99)\n",
      "Requirement already satisfied: nvidia-cusparse-cu12==12.3.0.142 in /usr/local/lib/python3.11/dist-packages (from torch>=2.0.0->accelerate) (12.3.0.142)\n",
      "Requirement already satisfied: nvidia-nccl-cu12==2.20.5 in /usr/local/lib/python3.11/dist-packages (from torch>=2.0.0->accelerate) (2.20.5)\n",
      "Requirement already satisfied: nvidia-nvtx-cu12==12.4.99 in /usr/local/lib/python3.11/dist-packages (from torch>=2.0.0->accelerate) (12.4.99)\n",
      "Requirement already satisfied: nvidia-nvjitlink-cu12==12.4.99 in /usr/local/lib/python3.11/dist-packages (from torch>=2.0.0->accelerate) (12.4.99)\n",
      "Requirement already satisfied: triton==3.0.0 in /usr/local/lib/python3.11/dist-packages (from torch>=2.0.0->accelerate) (3.0.0)\n",
      "Requirement already satisfied: MarkupSafe>=2.0 in /usr/local/lib/python3.11/dist-packages (from jinja2->torch>=2.0.0->accelerate) (3.0.2)\n",
      "Requirement already satisfied: intel-openmp<2026,>=2024 in /usr/local/lib/python3.11/dist-packages (from mkl->numpy>=1.17->transformers) (2024.2.0)\n",
      "Requirement already satisfied: tbb==2022.* in /usr/local/lib/python3.11/dist-packages (from mkl->numpy>=1.17->transformers) (2022.1.0)\n",
      "Requirement already satisfied: tcmlib==1.* in /usr/local/lib/python3.11/dist-packages (from tbb==2022.*->mkl->numpy>=1.17->transformers) (1.3.0)\n",
      "Requirement already satisfied: intel-cmplr-lib-rt in /usr/local/lib/python3.11/dist-packages (from mkl_umath->numpy>=1.17->transformers) (2024.2.0)\n",
      "Requirement already satisfied: mpmath<1.4,>=1.1.0 in /usr/local/lib/python3.11/dist-packages (from sympy->torch>=2.0.0->accelerate) (1.3.0)\n",
      "Requirement already satisfied: intel-cmplr-lib-ur==2024.2.0 in /usr/local/lib/python3.11/dist-packages (from intel-openmp<2026,>=2024->mkl->numpy>=1.17->transformers) (2024.2.0)\n"
     ]
    }
   ],
   "source": [
    "!pip install torch==2.4.0 torchvision==0.19.0 torchaudio==2.4.0 --index-url https://download.pytorch.org/whl/cu124\n",
    "!pip install transformers accelerate huggingface_hub pandas optuna pyproj einops geopy matplotlib kaggle  geopandas cartopy"
   ]
  },
  {
   "cell_type": "code",
   "execution_count": null,
   "id": "0d015e38",
   "metadata": {
    "execution": {
     "iopub.execute_input": "2025-05-27T22:59:22.154640Z",
     "iopub.status.busy": "2025-05-27T22:59:22.154420Z",
     "iopub.status.idle": "2025-05-27T22:59:45.713469Z",
     "shell.execute_reply": "2025-05-27T22:59:45.712924Z",
     "shell.execute_reply.started": "2025-05-27T22:59:22.154618Z"
    },
    "trusted": true
   },
   "outputs": [
    {
     "data": {
      "application/vnd.jupyter.widget-view+json": {
       "model_id": "3be8d301a476433c9676e438f7682ed5",
       "version_major": 2,
       "version_minor": 0
      },
      "text/plain": [
       "Fetching 1 files:   0%|          | 0/1 [00:00<?, ?it/s]"
      ]
     },
     "metadata": {},
     "output_type": "display_data"
    },
    {
     "data": {
      "application/vnd.jupyter.widget-view+json": {
       "model_id": "41b1a1a760714414b2fbae172ecd5e26",
       "version_major": 2,
       "version_minor": 0
      },
      "text/plain": [
       "filtered_mp16.tar:   0%|          | 0.00/4.08G [00:00<?, ?B/s]"
      ]
     },
     "metadata": {},
     "output_type": "display_data"
    },
    {
     "name": "stdout",
     "output_type": "stream",
     "text": [
      "Downloaded dataset to /kaggle/working/G3-Original/data/mp16\n"
     ]
    },
    {
     "data": {
      "application/vnd.jupyter.widget-view+json": {
       "model_id": "87c12d49577444ce92d6750559cdbd4d",
       "version_major": 2,
       "version_minor": 0
      },
      "text/plain": [
       "MP16_Pro_filtered.csv:   0%|          | 0.00/747M [00:00<?, ?B/s]"
      ]
     },
     "metadata": {},
     "output_type": "display_data"
    },
    {
     "name": "stdout",
     "output_type": "stream",
     "text": [
      "Downloaded metadata/MP16_Pro_filtered.csv to data/mp16/metadata/MP16_Pro_filtered.csv\n"
     ]
    },
    {
     "data": {
      "application/vnd.jupyter.widget-view+json": {
       "model_id": "6c7b2e4f2f47461fbc42b1ab2ce94922",
       "version_major": 2,
       "version_minor": 0
      },
      "text/plain": [
       "MP16_Pro_places365.csv:   0%|          | 0.00/859M [00:00<?, ?B/s]"
      ]
     },
     "metadata": {},
     "output_type": "display_data"
    },
    {
     "name": "stdout",
     "output_type": "stream",
     "text": [
      "Downloaded metadata/MP16_Pro_places365.csv to data/mp16/metadata/MP16_Pro_places365.csv\n"
     ]
    },
    {
     "data": {
      "application/vnd.jupyter.widget-view+json": {
       "model_id": "d40e698239d94c21837cb090a6024a44",
       "version_major": 2,
       "version_minor": 0
      },
      "text/plain": [
       "mp16_urls.csv:   0%|          | 0.00/385M [00:00<?, ?B/s]"
      ]
     },
     "metadata": {},
     "output_type": "display_data"
    },
    {
     "name": "stdout",
     "output_type": "stream",
     "text": [
      "Downloaded metadata/mp16_urls.csv to data/mp16/metadata/mp16_urls.csv\n"
     ]
    }
   ],
   "source": [
    "from huggingface_hub import snapshot_download, hf_hub_download, login\n",
    "\n",
    "login(token=\"\")\n",
    "\n",
    "path = snapshot_download(\n",
    "    repo_id=\"tduongvn/ACMMM25-Geolocation\",\n",
    "    repo_type=\"dataset\",\n",
    "    allow_patterns=[\"*.tar\"],\n",
    "    local_dir=\"data/mp16/\",\n",
    "    use_auth_token=True  # will use your local token from `huggingface-cli login`\n",
    ")\n",
    "print(f\"Downloaded dataset to {path}\")\n",
    "\n",
    "files = [\n",
    "    \"metadata/MP16_Pro_filtered.csv\",\n",
    "    \"metadata/MP16_Pro_places365.csv\",\n",
    "    \"metadata/mp16_urls.csv\"\n",
    "]\n",
    "for file in files:\n",
    "    path = hf_hub_download(\n",
    "        repo_id=\"Jia-py/MP16-Pro\",\n",
    "        filename=file,\n",
    "        repo_type=\"dataset\",\n",
    "        local_dir=\"data/mp16/\",\n",
    "        use_auth_token=True  # will use your local token from `huggingface-cli login`\n",
    "    )\n",
    "    print(f\"Downloaded {file} to {path}\")\n"
   ]
  },
  {
   "cell_type": "code",
   "execution_count": 54,
   "id": "cff945a8",
   "metadata": {
    "execution": {
     "iopub.execute_input": "2025-05-27T22:59:45.714372Z",
     "iopub.status.busy": "2025-05-27T22:59:45.714126Z",
     "iopub.status.idle": "2025-05-27T22:59:45.902186Z",
     "shell.execute_reply": "2025-05-27T22:59:45.901196Z",
     "shell.execute_reply.started": "2025-05-27T22:59:45.714354Z"
    },
    "trusted": true
   },
   "outputs": [],
   "source": [
    "!mv data/mp16/metadata/*.csv data/mp16"
   ]
  },
  {
   "cell_type": "code",
   "execution_count": null,
   "id": "bc78a925",
   "metadata": {
    "execution": {
     "iopub.execute_input": "2025-05-27T22:59:45.904613Z",
     "iopub.status.busy": "2025-05-27T22:59:45.904321Z",
     "iopub.status.idle": "2025-05-27T22:59:55.371921Z",
     "shell.execute_reply": "2025-05-27T22:59:55.370937Z",
     "shell.execute_reply.started": "2025-05-27T22:59:45.904589Z"
    },
    "trusted": true
   },
   "outputs": [
    {
     "name": "stdout",
     "output_type": "stream",
     "text": [
      "Dataset URL: https://www.kaggle.com/datasets/lctngdng/im2gps3k\n"
     ]
    }
   ],
   "source": [
    "import os\n",
    "\n",
    "os.environ['KAGGLE_USERNAME'] = ''\n",
    "os.environ['KAGGLE_KEY'] = ''\n",
    "\n",
    "from kaggle.api.kaggle_api_extended import KaggleApi\n",
    "\n",
    "api = KaggleApi()\n",
    "api.authenticate()\n",
    "\n",
    "api.dataset_download_files('lctngdng/im2gps3k', path='data/im2gps3k', unzip=True)"
   ]
  },
  {
   "cell_type": "code",
   "execution_count": 56,
   "id": "56837a7a",
   "metadata": {
    "execution": {
     "iopub.execute_input": "2025-05-27T22:59:55.373887Z",
     "iopub.status.busy": "2025-05-27T22:59:55.373638Z",
     "iopub.status.idle": "2025-05-27T22:59:56.453750Z",
     "shell.execute_reply": "2025-05-27T22:59:56.453207Z",
     "shell.execute_reply.started": "2025-05-27T22:59:55.373870Z"
    },
    "trusted": true
   },
   "outputs": [],
   "source": [
    "import geopandas as gpd\n",
    "from shapely.geometry import Point\n",
    "import cartopy.io.shapereader as shpreader\n",
    "\n",
    "# Load Natural Earth country polygons\n",
    "shp_path = shpreader.natural_earth(\n",
    "    resolution='110m',\n",
    "    category='cultural',\n",
    "    name='admin_0_countries'\n",
    ")\n",
    "world = gpd.read_file(shp_path)[[\"ADMIN\", \"geometry\"]].to_crs(epsg=4326)\n",
    "# Build spatial index for performance\n",
    "sindex = world.sindex\n",
    "\n",
    "# Function returns country name for a given latitude/longitude\n",
    "def point_to_country(lat, lon, countries=world, index=sindex):\n",
    "    pt = Point(lon, lat)\n",
    "    # Find candidate polygons via spatial index\n",
    "    candidates = list(index.intersection(pt.bounds))\n",
    "    # Check strict land contains\n",
    "    for idx in candidates:\n",
    "        if countries.geometry.iloc[idx].contains(pt):\n",
    "            return countries.ADMIN.iloc[idx]\n",
    "    # Fallback to intersects for border/water cases\n",
    "    for idx in candidates:\n",
    "        if countries.geometry.iloc[idx].intersects(pt):\n",
    "            return countries.ADMIN.iloc[idx]\n",
    "    # No match found\n",
    "    return None"
   ]
  },
  {
   "cell_type": "code",
   "execution_count": 57,
   "id": "ca1830ac",
   "metadata": {
    "execution": {
     "iopub.execute_input": "2025-05-27T22:59:56.455097Z",
     "iopub.status.busy": "2025-05-27T22:59:56.454542Z",
     "iopub.status.idle": "2025-05-27T22:59:56.496140Z",
     "shell.execute_reply": "2025-05-27T22:59:56.495544Z",
     "shell.execute_reply.started": "2025-05-27T22:59:56.455060Z"
    },
    "trusted": true
   },
   "outputs": [
    {
     "data": {
      "text/html": [
       "<div>\n",
       "<style scoped>\n",
       "    .dataframe tbody tr th:only-of-type {\n",
       "        vertical-align: middle;\n",
       "    }\n",
       "\n",
       "    .dataframe tbody tr th {\n",
       "        vertical-align: top;\n",
       "    }\n",
       "\n",
       "    .dataframe thead th {\n",
       "        text-align: right;\n",
       "    }\n",
       "</style>\n",
       "<table border=\"1\" class=\"dataframe\">\n",
       "  <thead>\n",
       "    <tr style=\"text-align: right;\">\n",
       "      <th></th>\n",
       "      <th>IMG_ID</th>\n",
       "      <th>AUTHOR</th>\n",
       "      <th>LAT</th>\n",
       "      <th>LON</th>\n",
       "      <th>S3_Label</th>\n",
       "      <th>S16_Label</th>\n",
       "      <th>S365_Label</th>\n",
       "      <th>Prob_indoor</th>\n",
       "      <th>Prob_natural</th>\n",
       "      <th>Prob_urban</th>\n",
       "    </tr>\n",
       "  </thead>\n",
       "  <tbody>\n",
       "    <tr>\n",
       "      <th>0</th>\n",
       "      <td>1000269685_e60e9cdfb4_1125_78841376@N00.jpg</td>\n",
       "      <td>78841376@N00</td>\n",
       "      <td>32.325436</td>\n",
       "      <td>-64.764404</td>\n",
       "      <td>2</td>\n",
       "      <td>12</td>\n",
       "      <td>353</td>\n",
       "      <td>0.274242</td>\n",
       "      <td>0.045113</td>\n",
       "      <td>0.680645</td>\n",
       "    </tr>\n",
       "    <tr>\n",
       "      <th>1</th>\n",
       "      <td>1000304467_1a75a200b1_1296_78841376@N00.jpg</td>\n",
       "      <td>78841376@N00</td>\n",
       "      <td>32.325436</td>\n",
       "      <td>-64.764404</td>\n",
       "      <td>0</td>\n",
       "      <td>4</td>\n",
       "      <td>325</td>\n",
       "      <td>0.414407</td>\n",
       "      <td>0.220912</td>\n",
       "      <td>0.364681</td>\n",
       "    </tr>\n",
       "    <tr>\n",
       "      <th>2</th>\n",
       "      <td>1001048550_8e4b47d165_1051_78841376@N00.jpg</td>\n",
       "      <td>78841376@N00</td>\n",
       "      <td>32.325436</td>\n",
       "      <td>-64.764404</td>\n",
       "      <td>1</td>\n",
       "      <td>8</td>\n",
       "      <td>36</td>\n",
       "      <td>0.007326</td>\n",
       "      <td>0.969903</td>\n",
       "      <td>0.022771</td>\n",
       "    </tr>\n",
       "    <tr>\n",
       "      <th>3</th>\n",
       "      <td>1005977048_5ccf8b05d3_1201_91728102@N00.jpg</td>\n",
       "      <td>91728102@N00</td>\n",
       "      <td>29.976052</td>\n",
       "      <td>122.390356</td>\n",
       "      <td>2</td>\n",
       "      <td>6</td>\n",
       "      <td>273</td>\n",
       "      <td>0.003868</td>\n",
       "      <td>0.476665</td>\n",
       "      <td>0.519468</td>\n",
       "    </tr>\n",
       "    <tr>\n",
       "      <th>4</th>\n",
       "      <td>1008804117_ce4e6fef8a_1349_97522422@N00.jpg</td>\n",
       "      <td>97522422@N00</td>\n",
       "      <td>46.478536</td>\n",
       "      <td>30.758714</td>\n",
       "      <td>0</td>\n",
       "      <td>0</td>\n",
       "      <td>198</td>\n",
       "      <td>0.973878</td>\n",
       "      <td>0.002453</td>\n",
       "      <td>0.023670</td>\n",
       "    </tr>\n",
       "  </tbody>\n",
       "</table>\n",
       "</div>"
      ],
      "text/plain": [
       "                                        IMG_ID        AUTHOR        LAT  \\\n",
       "0  1000269685_e60e9cdfb4_1125_78841376@N00.jpg  78841376@N00  32.325436   \n",
       "1  1000304467_1a75a200b1_1296_78841376@N00.jpg  78841376@N00  32.325436   \n",
       "2  1001048550_8e4b47d165_1051_78841376@N00.jpg  78841376@N00  32.325436   \n",
       "3  1005977048_5ccf8b05d3_1201_91728102@N00.jpg  91728102@N00  29.976052   \n",
       "4  1008804117_ce4e6fef8a_1349_97522422@N00.jpg  97522422@N00  46.478536   \n",
       "\n",
       "          LON  S3_Label  S16_Label  S365_Label  Prob_indoor  Prob_natural  \\\n",
       "0  -64.764404         2         12         353     0.274242      0.045113   \n",
       "1  -64.764404         0          4         325     0.414407      0.220912   \n",
       "2  -64.764404         1          8          36     0.007326      0.969903   \n",
       "3  122.390356         2          6         273     0.003868      0.476665   \n",
       "4   30.758714         0          0         198     0.973878      0.002453   \n",
       "\n",
       "   Prob_urban  \n",
       "0    0.680645  \n",
       "1    0.364681  \n",
       "2    0.022771  \n",
       "3    0.519468  \n",
       "4    0.023670  "
      ]
     },
     "execution_count": 57,
     "metadata": {},
     "output_type": "execute_result"
    }
   ],
   "source": [
    "import pandas as pd\n",
    "df = pd.read_csv(\"data/im2gps3k/im2gps3k_places365.csv\")\n",
    "df.head()"
   ]
  },
  {
   "cell_type": "code",
   "execution_count": 58,
   "id": "7b52f000",
   "metadata": {
    "execution": {
     "iopub.execute_input": "2025-05-27T22:59:56.497063Z",
     "iopub.status.busy": "2025-05-27T22:59:56.496831Z",
     "iopub.status.idle": "2025-05-27T22:59:57.129774Z",
     "shell.execute_reply": "2025-05-27T22:59:57.129251Z",
     "shell.execute_reply.started": "2025-05-27T22:59:56.497046Z"
    },
    "trusted": true
   },
   "outputs": [],
   "source": [
    "def is_target_country(row):\n",
    "    lat, lon = row[\"LAT\"], row[\"LON\"]\n",
    "    return point_to_country(lat, lon) in [\"Ukraine\", \"Israel\", \"Russia\", \"Palestine\"]\n",
    "\n",
    "# apply row‐wise and get a boolean mask\n",
    "mask = df.apply(is_target_country, axis=1)\n",
    "\n",
    "# filter the dataframe\n",
    "df_filtered = df[mask]\n",
    "df_filtered.head()\n",
    "df_filtered.to_csv(\"data/im2gps3k/im2gps3k_places365.csv\")"
   ]
  },
  {
   "cell_type": "code",
   "execution_count": 59,
   "id": "4bef7a99",
   "metadata": {
    "execution": {
     "iopub.execute_input": "2025-05-27T22:59:57.130938Z",
     "iopub.status.busy": "2025-05-27T22:59:57.130625Z",
     "iopub.status.idle": "2025-05-27T22:59:57.149343Z",
     "shell.execute_reply": "2025-05-27T22:59:57.148627Z",
     "shell.execute_reply.started": "2025-05-27T22:59:57.130912Z"
    },
    "trusted": true
   },
   "outputs": [],
   "source": [
    "from pathlib import Path\n",
    "import shutil\n",
    "Path(\"data/im2gps3k/filtered_im2gps3k\").mkdir(parents=True, exist_ok=True)\n",
    "for image in df_filtered[\"IMG_ID\"]:\n",
    "    shutil.copyfile(\n",
    "        f\"data/im2gps3k/im2gps3ktest/{image}\",\n",
    "        f\"data/im2gps3k/filtered_im2gps3k/{image}\"\n",
    "    )"
   ]
  },
  {
   "cell_type": "code",
   "execution_count": null,
   "id": "252414ff",
   "metadata": {
    "execution": {
     "iopub.execute_input": "2025-05-27T23:06:16.608454Z",
     "iopub.status.busy": "2025-05-27T23:06:16.607680Z",
     "iopub.status.idle": "2025-05-27T23:07:04.423897Z",
     "shell.execute_reply": "2025-05-27T23:07:04.423297Z",
     "shell.execute_reply.started": "2025-05-27T23:06:16.608426Z"
    },
    "trusted": true
   },
   "outputs": [
    {
     "name": "stderr",
     "output_type": "stream",
     "text": [
      "2025-05-27 23:06:20.480092: E external/local_xla/xla/stream_executor/cuda/cuda_fft.cc:477] Unable to register cuFFT factory: Attempting to register factory for plugin cuFFT when one has already been registered\n",
      "WARNING: All log messages before absl::InitializeLog() is called are written to STDERR\n",
      "E0000 00:00:1748387180.506688     215 cuda_dnn.cc:8310] Unable to register cuDNN factory: Attempting to register factory for plugin cuDNN when one has already been registered\n",
      "E0000 00:00:1748387180.514970     215 cuda_blas.cc:1418] Unable to register cuBLAS factory: Attempting to register factory for plugin cuBLAS when one has already been registered\n"
     ]
    }
   ],
   "source": [
    "# Standard library\n",
    "import os\n",
    "import time\n",
    "import warnings\n",
    "import yaml\n",
    "\n",
    "# Third-party libraries\n",
    "import torch\n",
    "import optuna\n",
    "import pandas as pd\n",
    "import numpy as np\n",
    "import matplotlib.pyplot as plt\n",
    "from tqdm import tqdm\n",
    "from torch.utils.data import DataLoader\n",
    "from torch.optim.adamw import AdamW\n",
    "from accelerate import Accelerator, DistributedDataParallelKwargs\n",
    "\n",
    "# Local application imports\n",
    "from utils.utils import MP16Dataset\n",
    "from utils.G3 import G3\n",
    "from zeroshot_prediction import ZeroShotPredictor\n",
    "\n",
    "\n",
    "warnings.filterwarnings('ignore')\n",
    "\n",
    "def train_1epoch(dataloader, eval_dataloader, earlystopper, model, vision_processor, text_processor, optimizer, scheduler, device, accelerator=None):\n",
    "    model.train()\n",
    "    t = tqdm(dataloader, disable=not accelerator.is_local_main_process)\n",
    "    for i, (images, texts, longitude, latitude) in enumerate(t):\n",
    "        texts = text_processor(text=texts, padding='max_length', truncation=True, return_tensors='pt', max_length=77)\n",
    "        images = images.to(device)\n",
    "        texts = texts.to(device)\n",
    "        longitude = longitude.to(device).float()\n",
    "        latitude = latitude.to(device).float()\n",
    "        optimizer.zero_grad()\n",
    "\n",
    "        output = model(images, texts, longitude, latitude, return_loss=True)\n",
    "        loss = output['loss']\n",
    "\n",
    "        if accelerator is not None:\n",
    "            accelerator.backward(loss)\n",
    "        else:\n",
    "            loss.backward()\n",
    "        optimizer.step()\n",
    "        if i % 1 == 0:\n",
    "            t.set_description('step {}, loss {}, lr {}'.format(i, loss.item(), scheduler.get_last_lr()[0]))\n",
    "    scheduler.step()\n"
   ]
  },
  {
   "cell_type": "code",
   "execution_count": 5,
   "id": "de25e985-c014-476d-8434-9948d0305434",
   "metadata": {
    "execution": {
     "iopub.execute_input": "2025-05-27T23:06:13.353233Z",
     "iopub.status.busy": "2025-05-27T23:06:13.352528Z",
     "iopub.status.idle": "2025-05-27T23:06:13.359163Z",
     "shell.execute_reply": "2025-05-27T23:06:13.358556Z",
     "shell.execute_reply.started": "2025-05-27T23:06:13.353199Z"
    },
    "trusted": true
   },
   "outputs": [
    {
     "name": "stdout",
     "output_type": "stream",
     "text": [
      "/kaggle/working/G3-Original\n"
     ]
    }
   ],
   "source": [
    "%cd G3-Original"
   ]
  },
  {
   "cell_type": "code",
   "execution_count": null,
   "id": "72b6404f-173b-4de1-8678-a7f7c0128be0",
   "metadata": {
    "execution": {
     "iopub.execute_input": "2025-05-27T23:07:04.425522Z",
     "iopub.status.busy": "2025-05-27T23:07:04.425025Z",
     "iopub.status.idle": "2025-05-27T23:07:06.717947Z",
     "shell.execute_reply": "2025-05-27T23:07:06.717323Z",
     "shell.execute_reply.started": "2025-05-27T23:07:04.425501Z"
    },
    "trusted": true
   },
   "outputs": [],
   "source": [
    "ddp_kwargs = DistributedDataParallelKwargs(find_unused_parameters=True)\n",
    "accelerator = Accelerator(kwargs_handlers=[ddp_kwargs])\n",
    "\n",
    "# fine-tune\n",
    "device = \"cuda\" if torch.cuda.is_available() else \"cpu\"\n",
    "# device = 'cpu'\n",
    "hparams = yaml.safe_load(open('hparams.yaml', 'r'))\n",
    "pe = \"projection_ecef\"\n",
    "nn = \"rffmlp\"\n",
    "model = G3(\n",
    "    device=device,\n",
    "    positional_encoding_type=pe,\n",
    "    neural_network_type=nn,\n",
    "    hparams=hparams[f'{pe}_{nn}'],\n",
    ").to(device)"
   ]
  },
  {
   "cell_type": "markdown",
   "id": "6614ef38",
   "metadata": {},
   "source": [
    "### ECEF Finetune"
   ]
  },
  {
   "cell_type": "code",
   "execution_count": null,
   "id": "63c66196-391d-4ff0-8da0-91e0454e2104",
   "metadata": {
    "execution": {
     "iopub.execute_input": "2025-05-27T22:34:57.598941Z",
     "iopub.status.busy": "2025-05-27T22:34:57.598234Z",
     "iopub.status.idle": "2025-05-27T22:34:57.604657Z",
     "shell.execute_reply": "2025-05-27T22:34:57.603840Z",
     "shell.execute_reply.started": "2025-05-27T22:34:57.598914Z"
    },
    "trusted": true
   },
   "outputs": [
    {
     "data": {
      "text/plain": [
       "dict_keys(['neural_network.0.LocEnc0.capsule.0.b', 'neural_network.0.LocEnc0.capsule.1.weight', 'neural_network.0.LocEnc0.capsule.1.bias', 'neural_network.0.LocEnc0.capsule.3.weight', 'neural_network.0.LocEnc0.capsule.3.bias', 'neural_network.0.LocEnc0.capsule.5.weight', 'neural_network.0.LocEnc0.capsule.5.bias', 'neural_network.0.LocEnc0.head.0.weight', 'neural_network.0.LocEnc0.head.0.bias', 'neural_network.0.LocEnc1.capsule.0.b', 'neural_network.0.LocEnc1.capsule.1.weight', 'neural_network.0.LocEnc1.capsule.1.bias', 'neural_network.0.LocEnc1.capsule.3.weight', 'neural_network.0.LocEnc1.capsule.3.bias', 'neural_network.0.LocEnc1.capsule.5.weight', 'neural_network.0.LocEnc1.capsule.5.bias', 'neural_network.0.LocEnc1.head.0.weight', 'neural_network.0.LocEnc1.head.0.bias', 'neural_network.0.LocEnc2.capsule.0.b', 'neural_network.0.LocEnc2.capsule.1.weight', 'neural_network.0.LocEnc2.capsule.1.bias', 'neural_network.0.LocEnc2.capsule.3.weight', 'neural_network.0.LocEnc2.capsule.3.bias', 'neural_network.0.LocEnc2.capsule.5.weight', 'neural_network.0.LocEnc2.capsule.5.bias', 'neural_network.0.LocEnc2.head.0.weight', 'neural_network.0.LocEnc2.head.0.bias'])"
      ]
     },
     "execution_count": 21,
     "metadata": {},
     "output_type": "execute_result"
    }
   ],
   "source": [
    "from utils.rff.layers import GaussianEncoding\n",
    "from pyproj import Proj, Transformer\n",
    "\n",
    "location_encoder_dict = torch.load('checkpoints/location_encoder_weights.pth') # from geoclip\n",
    "\n",
    "new_location_encoder_dict = {}\n",
    "for k, v in location_encoder_dict.items():\n",
    "    new_key = 'neural_network.0.' + k\n",
    "    new_location_encoder_dict[new_key] = v\n",
    "\n",
    "model.location_encoder.load_state_dict(new_location_encoder_dict)\n",
    "\n",
    "\n",
    "print(model.location_encoder.neural_network[0].LocEnc0.capsule[0])\n",
    "sigma = torch.tensor([1.0, 16.0, 256.0])\n",
    "model.location_encoder.neural_network[0].LocEnc0.capsule[0] = GaussianEncoding(sigma=sigma, input_size=3, encoded_size=256)\n",
    "model.location_encoder.neural_network[0].LocEnc1.capsule[0] = GaussianEncoding(sigma=sigma, input_size=3, encoded_size=256)\n",
    "model.location_encoder.neural_network[0].LocEnc2.capsule[0] = GaussianEncoding(sigma=sigma, input_size=3, encoded_size=256)\n",
    "\n",
    "\n",
    "# Manually replace the Projection to use ECEF\n",
    "model.location_encoder.position_encoder.projection = \"ecef\"\n",
    "model.location_encoder.position_encoder.normalizer = 6378137.0\n",
    "model.location_encoder.position_encoder.embedding_dim = [3]\n",
    "model.location_encoder.position_encoder.transformer = Transformer.from_proj(\n",
    "    Proj('epsg:4326'), Proj('epsg:4978'), always_xy=True\n",
    ")"
   ]
  },
  {
   "cell_type": "markdown",
   "id": "089ddeac",
   "metadata": {},
   "source": [
    "### SIREN-SH Finetune"
   ]
  },
  {
   "cell_type": "code",
   "execution_count": null,
   "id": "e00c1870",
   "metadata": {},
   "outputs": [],
   "source": [
    "from huggingface_hub import hf_hub_download\n",
    "import torch\n",
    "\n",
    "hf_hub_download(\n",
    "    repo_id=\"microsoft/SatCLIP-ViT16-L40\",\n",
    "    filename=\"satclip-vit16-l40.ckpt\",\n",
    "    repo_type=\"model\",\n",
    "    local_dir=\"./\"\n",
    ")\n",
    "\n",
    "\n",
    "ckpt_path = \"satclip-vit16-l40.ckpt\"\n",
    "ckpt = torch.load(ckpt_path, map_location=\"cuda\")\n",
    "\n",
    "if \"state_dict\" in ckpt:\n",
    "    state_dict = ckpt[\"state_dict\"]\n",
    "else:\n",
    "    state_dict = ckpt  \n",
    "\n",
    "location_state_dict = {\n",
    "    k.replace(\"model.location.nnet\", \"neural_network.0\"): v for k, v in state_dict.items() if k.startswith(\"model.location.\")\n",
    "}\n",
    "\n",
    "for k, v in location_state_dict.items():\n",
    "    print(k, v.shape)\n",
    "    \n",
    "model.location_encoder.load_state_dict(location_state_dict)"
   ]
  },
  {
   "cell_type": "markdown",
   "id": "afce2a7a",
   "metadata": {},
   "source": [
    "### Start..."
   ]
  },
  {
   "cell_type": "code",
   "execution_count": null,
   "id": "e73ff9dd",
   "metadata": {
    "execution": {
     "execution_failed": "2025-05-27T23:03:23.661Z",
     "iopub.execute_input": "2025-05-27T23:02:10.632269Z",
     "iopub.status.busy": "2025-05-27T23:02:10.631526Z"
    },
    "trusted": true
   },
   "outputs": [
    {
     "name": "stdout",
     "output_type": "stream",
     "text": [
      "read text data success\n",
      "no exist tar index success, need building...\n"
     ]
    },
    {
     "name": "stderr",
     "output_type": "stream",
     "text": [
      "42764it [00:01, 30022.27it/s]\n"
     ]
    },
    {
     "name": "stdout",
     "output_type": "stream",
     "text": [
      "tar index buidling success\n",
      "data columns:  42764\n",
      "location from str to float success\n",
      "logit_scale1 torch.Size([])\n",
      "logit_scale2 torch.Size([])\n",
      "logit_scale3 torch.Size([])\n",
      "location_encoder.neural_network.0.LocEnc0.capsule.1.weight torch.Size([1024, 512])\n",
      "location_encoder.neural_network.0.LocEnc0.capsule.1.bias torch.Size([1024])\n",
      "location_encoder.neural_network.0.LocEnc0.capsule.3.weight torch.Size([1024, 1024])\n",
      "location_encoder.neural_network.0.LocEnc0.capsule.3.bias torch.Size([1024])\n",
      "location_encoder.neural_network.0.LocEnc0.capsule.5.weight torch.Size([1024, 1024])\n",
      "location_encoder.neural_network.0.LocEnc0.capsule.5.bias torch.Size([1024])\n",
      "location_encoder.neural_network.0.LocEnc0.head.0.weight torch.Size([512, 1024])\n",
      "location_encoder.neural_network.0.LocEnc0.head.0.bias torch.Size([512])\n",
      "location_encoder.neural_network.0.LocEnc1.capsule.1.weight torch.Size([1024, 512])\n",
      "location_encoder.neural_network.0.LocEnc1.capsule.1.bias torch.Size([1024])\n",
      "location_encoder.neural_network.0.LocEnc1.capsule.3.weight torch.Size([1024, 1024])\n",
      "location_encoder.neural_network.0.LocEnc1.capsule.3.bias torch.Size([1024])\n",
      "location_encoder.neural_network.0.LocEnc1.capsule.5.weight torch.Size([1024, 1024])\n",
      "location_encoder.neural_network.0.LocEnc1.capsule.5.bias torch.Size([1024])\n",
      "location_encoder.neural_network.0.LocEnc1.head.0.weight torch.Size([512, 1024])\n",
      "location_encoder.neural_network.0.LocEnc1.head.0.bias torch.Size([512])\n",
      "location_encoder.neural_network.0.LocEnc2.capsule.1.weight torch.Size([1024, 512])\n",
      "location_encoder.neural_network.0.LocEnc2.capsule.1.bias torch.Size([1024])\n",
      "location_encoder.neural_network.0.LocEnc2.capsule.3.weight torch.Size([1024, 1024])\n",
      "location_encoder.neural_network.0.LocEnc2.capsule.3.bias torch.Size([1024])\n",
      "location_encoder.neural_network.0.LocEnc2.capsule.5.weight torch.Size([1024, 1024])\n",
      "location_encoder.neural_network.0.LocEnc2.capsule.5.bias torch.Size([1024])\n",
      "location_encoder.neural_network.0.LocEnc2.head.0.weight torch.Size([512, 1024])\n",
      "location_encoder.neural_network.0.LocEnc2.head.0.bias torch.Size([512])\n",
      "vision_projection_else_1.0.weight torch.Size([768, 768])\n",
      "vision_projection_else_1.0.bias torch.Size([768])\n",
      "vision_projection_else_1.2.weight torch.Size([768, 768])\n",
      "vision_projection_else_1.2.bias torch.Size([768])\n",
      "text_projection_else.0.weight torch.Size([768, 768])\n",
      "text_projection_else.0.bias torch.Size([768])\n",
      "text_projection_else.2.weight torch.Size([768, 768])\n",
      "text_projection_else.2.bias torch.Size([768])\n",
      "vision_projection_else_2.0.weight torch.Size([768, 768])\n",
      "vision_projection_else_2.0.bias torch.Size([768])\n",
      "vision_projection_else_2.2.weight torch.Size([768, 768])\n",
      "vision_projection_else_2.2.bias torch.Size([768])\n",
      "location_projection_else.0.weight torch.Size([512, 512])\n",
      "location_projection_else.0.bias torch.Size([512])\n",
      "location_projection_else.2.weight torch.Size([768, 512])\n",
      "location_projection_else.2.bias torch.Size([768])\n"
     ]
    },
    {
     "name": "stderr",
     "output_type": "stream",
     "text": [
      "  0%|          | 0/168 [00:00<?, ?it/s]"
     ]
    }
   ],
   "source": [
    "\n",
    "dataset = MP16Dataset(vision_processor = model.vision_processor, text_processor = model.text_processor, root_path='data/mp16/',image_data_path='filtered_mp16.tar')\n",
    "dataloader = DataLoader(dataset, batch_size=256, shuffle=False, num_workers=16, pin_memory=True, prefetch_factor=5)\n",
    "\n",
    "\n",
    "params = []\n",
    "for name, param in model.named_parameters():\n",
    "    if param.requires_grad:\n",
    "        print(name, param.size())\n",
    "        params.append(param)\n",
    "\n",
    "optimizer = AdamW([param for name, param in model.named_parameters() if param.requires_grad], lr=hparams[f'{pe}_{nn}']['lr'], weight_decay=hparams[f'{pe}_{nn}']['wd'])\n",
    "scheduler = torch.optim.lr_scheduler.StepLR(optimizer, step_size=1, gamma=0.87)\n",
    "\n",
    "model, optimizer, dataloader, scheduler = accelerator.prepare(\n",
    "    model, optimizer, dataloader, scheduler\n",
    ")\n",
    "\n",
    "eval_dataloader = None\n",
    "earlystopper = None\n",
    "for epoch in range(10):\n",
    "    train_1epoch(dataloader, eval_dataloader, earlystopper, model, model.vision_processor, model.text_processor, optimizer, scheduler, device, accelerator)\n",
    "    unwrapped_model = accelerator.unwrap_model(model)\n",
    "    os.makedirs('checkpoints', exist_ok=True)\n",
    "    torch.save(unwrapped_model, 'checkpoints/g3_{}_.pth'.format(epoch))\n",
    "\n",
    "    with open(\"threshold_accuracy.txt\", \"a\") as f:\n",
    "        f.write('checkpoints/g3_{}_.pth\\n'.format(epoch))\n",
    "\n",
    "\n",
    "    predictor = ZeroShotPredictor(model='checkpoints/g3_{}_.pth'.format(epoch), device=device)\n",
    "    df, res = predictor.evaluate_im2gps3k(\n",
    "        df_path=\"data/im2gps3k/im2gps3k_places365.csv\",\n",
    "        top_k=5,\n",
    "        root_path=\"data/im2gps3k/\",\n",
    "        image_data_path=\"filtered_im2gps3k\",\n",
    "        text_data_path= \"im2gps3k_places365.csv\"\n",
    "    )"
   ]
  },
  {
   "cell_type": "code",
   "execution_count": null,
   "id": "1506f5d4",
   "metadata": {},
   "outputs": [],
   "source": [
    "!mv checkpoints/g3_5_.pth checkpoints/sirensh_6epoch_tmp.pth"
   ]
  },
  {
   "cell_type": "code",
   "execution_count": null,
   "id": "8c57674d",
   "metadata": {},
   "outputs": [],
   "source": [
    "from huggingface_hub import upload_file\n",
    "\n",
    "upload_file(\n",
    "    path_or_fileobj=\"checkpoints/sirensh_6epoch_tmph.pth\",        # Local file path\n",
    "    path_in_repo=\"sirensh_6epoch_tmp.pth\",                         # Desired path in the repo\n",
    "    repo_id=\"tduongvn/Checkpoints-ACMMM25\",               # e.g., \"tungduong/my-model-repo\"\n",
    "    repo_type=\"model\",                                    # or \"dataset\" or \"space\"\n",
    "    commit_message=\"Upload sirensh_6epoch_tmp.pth\"\n",
    ")\n"
   ]
  }
 ],
 "metadata": {
  "kaggle": {
   "accelerator": "gpu",
   "dataSources": [],
   "dockerImageVersionId": 31041,
   "isGpuEnabled": true,
   "isInternetEnabled": true,
   "language": "python",
   "sourceType": "notebook"
  },
  "kernelspec": {
   "display_name": "Python 3",
   "language": "python",
   "name": "python3"
  },
  "language_info": {
   "codemirror_mode": {
    "name": "ipython",
    "version": 3
   },
   "file_extension": ".py",
   "mimetype": "text/x-python",
   "name": "python",
   "nbconvert_exporter": "python",
   "pygments_lexer": "ipython3",
   "version": "3.11.11"
  }
 },
 "nbformat": 4,
 "nbformat_minor": 5
}
