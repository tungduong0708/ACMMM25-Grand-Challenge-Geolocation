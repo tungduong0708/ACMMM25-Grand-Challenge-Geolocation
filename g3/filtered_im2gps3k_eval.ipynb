{
 "cells": [
  {
   "cell_type": "code",
   "execution_count": null,
   "id": "b11497f7",
   "metadata": {},
   "outputs": [],
   "source": [
    "!pip install torch==2.4.0 torchvision==0.19.0 torchaudio==2.4.0 --index-url https://download.pytorch.org/whl/cu124\n",
    "!pip install transformers accelerate huggingface_hub pandas optuna pyproj einops geopy matplotlib kaggle  geopandas cartopy"
   ]
  },
  {
   "cell_type": "code",
   "execution_count": null,
   "id": "9c57d011",
   "metadata": {},
   "outputs": [],
   "source": [
    "import os\n",
    "\n",
    "os.environ['KAGGLE_USERNAME'] = ''\n",
    "os.environ['KAGGLE_KEY'] = ''\n",
    "\n",
    "from kaggle.api.kaggle_api_extended import KaggleApi\n",
    "\n",
    "api = KaggleApi()\n",
    "api.authenticate()\n",
    "\n",
    "api.dataset_download_files('lctngdng/im2gps3k', path='data/im2gps3k', unzip=True)"
   ]
  },
  {
   "cell_type": "code",
   "execution_count": null,
   "id": "572a0a63",
   "metadata": {},
   "outputs": [],
   "source": [
    "import geopandas as gpd\n",
    "from shapely.geometry import Point\n",
    "import cartopy.io.shapereader as shpreader\n",
    "\n",
    "# Load Natural Earth country polygons\n",
    "shp_path = shpreader.natural_earth(\n",
    "    resolution='110m',\n",
    "    category='cultural',\n",
    "    name='admin_0_countries'\n",
    ")\n",
    "world = gpd.read_file(shp_path)[[\"ADMIN\", \"geometry\"]].to_crs(epsg=4326)\n",
    "# Build spatial index for performance\n",
    "sindex = world.sindex\n",
    "\n",
    "# Function returns country name for a given latitude/longitude\n",
    "def point_to_country(lat, lon, countries=world, index=sindex):\n",
    "    pt = Point(lon, lat)\n",
    "    # Find candidate polygons via spatial index\n",
    "    candidates = list(index.intersection(pt.bounds))\n",
    "    # Check strict land contains\n",
    "    for idx in candidates:\n",
    "        if countries.geometry.iloc[idx].contains(pt):\n",
    "            return countries.ADMIN.iloc[idx]\n",
    "    # Fallback to intersects for border/water cases\n",
    "    for idx in candidates:\n",
    "        if countries.geometry.iloc[idx].intersects(pt):\n",
    "            return countries.ADMIN.iloc[idx]\n",
    "    # No match found\n",
    "    return None"
   ]
  },
  {
   "cell_type": "code",
   "execution_count": null,
   "id": "daa5d285",
   "metadata": {},
   "outputs": [],
   "source": [
    "import pandas as pd\n",
    "df = pd.read_csv(\"data/im2gps3k/im2gps3k_places365.csv\")\n",
    "df.head()"
   ]
  },
  {
   "cell_type": "code",
   "execution_count": null,
   "id": "baea1ac5",
   "metadata": {},
   "outputs": [],
   "source": [
    "def is_target_country(row):\n",
    "    lat, lon = row[\"LAT\"], row[\"LON\"]\n",
    "    return point_to_country(lat, lon) in [\"Ukraine\", \"Israel\", \"Russia\", \"Palestine\"]\n",
    "\n",
    "# apply row‐wise and get a boolean mask\n",
    "mask = df.apply(is_target_country, axis=1)\n",
    "\n",
    "# filter the dataframe\n",
    "df_filtered = df[mask]\n",
    "df_filtered.head()\n",
    "df_filtered.to_csv(\"data/im2gps3k/im2gps3k_places365.csv\")"
   ]
  },
  {
   "cell_type": "code",
   "execution_count": null,
   "id": "9ea85074",
   "metadata": {},
   "outputs": [],
   "source": [
    "from pathlib import Path\n",
    "import shutil\n",
    "Path(\"data/im2gps3k/filtered_im2gps3k\").mkdir(parents=True, exist_ok=True)\n",
    "for image in df_filtered[\"IMG_ID\"]:\n",
    "    shutil.copyfile(\n",
    "        f\"data/im2gps3k/im2gps3ktest/{image}\",\n",
    "        f\"data/im2gps3k/filtered_im2gps3k/{image}\"\n",
    "    )"
   ]
  },
  {
   "cell_type": "code",
   "execution_count": null,
   "id": "c064a0b1",
   "metadata": {},
   "outputs": [],
   "source": [
    "import torch\n",
    "from zeroshot_prediction import ZeroShotPredictor\n",
    "predictor = ZeroShotPredictor(\n",
    "    model='checkpoints/g3_9_.pth',  # Path to your model\n",
    "    device='cuda' if torch.cuda.is_available() else 'cpu'\n",
    ")\n",
    "\n",
    "print(\"Starting prediction on im2gps3k dataset...\")\n",
    "# Get predictions and evaluate\n",
    "results_df,_ = predictor.evaluate_im2gps3k(\n",
    "    df_path='data/im2gps3k/im2gps3k_places365.csv',\n",
    "    top_k=5,\n",
    "    root_path='data/im2gps3k',\n",
    "    image_data_path='filtered_im2gps3k',\n",
    "    text_data_path='im2gps3k_places365.csv'\n",
    ")"
   ]
  }
 ],
 "metadata": {
  "language_info": {
   "name": "python"
  }
 },
 "nbformat": 4,
 "nbformat_minor": 5
}
